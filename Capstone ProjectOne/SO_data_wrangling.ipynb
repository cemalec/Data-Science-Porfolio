{
 "cells": [
  {
   "cell_type": "markdown",
   "metadata": {},
   "source": [
    "## Data Wrangling\n",
    "\n",
    "source of data: https://nces.ed.gov/EDAT/Data/Zip/HSLS_2016_v1_0_CSV_Datasets.zip\n",
    "\n",
    "source of layout data: https://nces.ed.gov/EDAT/Data/Zip/HSLS_2016_v1_0_CodeBook_Layout.zip"
   ]
  },
  {
   "cell_type": "code",
   "execution_count": 2,
   "metadata": {},
   "outputs": [],
   "source": [
    "import pandas as pd\n",
    "import numpy as np"
   ]
  },
  {
   "cell_type": "markdown",
   "metadata": {},
   "source": [
    "The csv file is quite large, but not so large that it can't fit in memory, however, it fits in much more easily if we take away some of the columns that won't be useful to the analysis right away. These include columns that are suppressed for public use due to privacy concerns, columns that include statistical weights used to create accurate aggregates of the data, and columns indicating where values have been imputed.\n",
    "\n",
    "Though these other columns, particularly the weights, will be used later, here we initially only extract the data columns so that we can read in a table in a reasonable amount of time."
   ]
  },
  {
   "cell_type": "code",
   "execution_count": 22,
   "metadata": {},
   "outputs": [],
   "source": [
    "#create variables for file locations\n",
    "filepath = '/Users/chrismalec/DS_Portfolio/CapstoneProjectOne/'\n",
    "studentdatafile = 'HSLS_2016_v1_0_CSV_Datasets/hsls_16_student_v1_0.csv'\n",
    "studentcodebookfile = 'HSLS_2016_v1_0_CodeBook_Layout/Layout_STUDENT.txt'\n",
    "schooldatafile = 'HSLS_2016_v1_0_CSV_Datasets/hsls_09_school_v1_0.csv'\n",
    "#import a small sample of the file\n",
    "with open(filepath+studentdatafile) as file:\n",
    "    student_df = pd.read_csv(file,nrows = 10)\n",
    "    file.close()\n",
    "\n",
    "#Remove columns with '-5' and create list of column names removed.\n",
    "#Create separate list of columns for weighting and imputation.\n",
    "#The remaining columns will constitute the database.\n",
    "student_suppressed_columns = []\n",
    "student_weight_columns = []\n",
    "student_imputed_columns = []\n",
    "student_columns = []\n",
    "for column in student_df.columns:\n",
    "    if (student_df[column] == -5).all():\n",
    "        student_suppressed_columns.append(column)\n",
    "    elif column[0] == 'W':\n",
    "        student_weight_columns.append(column)\n",
    "    elif column[-2:] == 'IM':\n",
    "        student_imputed_columns.append(column)\n",
    "    else:\n",
    "        student_columns.append(column)"
   ]
  },
  {
   "cell_type": "code",
   "execution_count": 14,
   "metadata": {},
   "outputs": [],
   "source": [
    "#Import the selected columns from the file for all rows.\n",
    "with open(filepath+studentdatafile) as file:\n",
    "    student_df = pd.read_csv(file,usecols = student_columns)\n",
    "    file.close()"
   ]
  },
  {
   "cell_type": "markdown",
   "metadata": {},
   "source": [
    "There are several variables that indicate the students' dropout status and whether or not they have ever dropped out. This variable was chosen as the label because it indicated the outcome of the student as stated on their transcript four years after the ninth grade study. Other columns may be removed later due to high (trivial) correlation with the label."
   ]
  },
  {
   "cell_type": "code",
   "execution_count": 5,
   "metadata": {},
   "outputs": [],
   "source": [
    "#Create series of labels and remove it from the dataframe.\n",
    "#labels = student_df.pop('X3TOUTCOME')"
   ]
  },
  {
   "cell_type": "code",
   "execution_count": 8,
   "metadata": {},
   "outputs": [],
   "source": [
    "#Create data frame of weights\n",
    "with open(filepath+studentdatafile) as file:\n",
    "    df_weights = pd.read_csv(file,usecols = student_weight_columns)\n",
    "    file.close()"
   ]
  },
  {
   "cell_type": "markdown",
   "metadata": {},
   "source": [
    "As the project moves forward, it will be convenient to easily move between the numbers that denote various responses to the surveys and the human readable responses that the number represent. For example, the column 'S1ABILITYBA' represents a response to whether the '9th grader thinks he/she has the ability to complete a Bachelor's degree.' The possible answers are coded in the data table as 1,2,3,4,-8, and -9 which correspond to \"Definitely not\", \"Probably not\", \"Probably\", \"Definitely\", \"Unit non-response\", and \"Missing.\"\n",
    "\n",
    "I create a dictionary from the documentation so that I can type number_labels['S1ABILITYBA']['4'] and obtain \"Definitely\" for use as a label in a graph or figure. Similarly, I include the description of the variable under the key 'desc'."
   ]
  },
  {
   "cell_type": "code",
   "execution_count": 25,
   "metadata": {},
   "outputs": [],
   "source": [
    "#create dictionary from the student codebook\n",
    "#Start creating dictionary.\n",
    "number_labels = {}\n",
    "coded_columns = student_columns + student_imputed_columns + [labels.name]\n",
    "with open(filepath+studentcodebookfile,'r') as file:\n",
    "    #Reads file until it reaches the descriptions\n",
    "    for line in file:\n",
    "        if '/* Variable Names, Locations, and Descriptions */' in line:\n",
    "            break\n",
    "    \n",
    "    #Takes first ASCII column and associates it with a data column\n",
    "    for line in file:\n",
    "        if len(line.split()) > 0:\n",
    "            new_key = line.split()[0].strip()\n",
    "        \n",
    "        #places description in dictionary under 'desc'\n",
    "        #reads until the value labels are reached\n",
    "        if new_key in coded_columns:\n",
    "            number_labels[new_key]={}\n",
    "            desc = ' '.join(line.split()[2:])\n",
    "            number_labels[new_key]['desc'] = desc\n",
    "        elif '/* Variable Value Labels */' in line:\n",
    "            break\n",
    "        else:\n",
    "            continue\n",
    "    \n",
    "    #key places additional key value pairs to specify the response associated with the number in the data table.       \n",
    "    for line in file:\n",
    "        if line.strip() in number_labels.keys():\n",
    "            key = line.strip()\n",
    "        #this comes up for some reason, not sure why there is a column or two that has no description but has a value mapping.\n",
    "        elif line.strip() in coded_columns:\n",
    "            key = line.strip()\n",
    "            number_labels[key]={}\n",
    "        elif line.strip()[:2] == '-5':\n",
    "            continue\n",
    "        elif line.strip() in student_suppressed_columns:\n",
    "            continue\n",
    "        elif line.strip() in student_weight_columns:\n",
    "            continue\n",
    "        #unambiguous end of file\n",
    "        elif line == '':\n",
    "            break\n",
    "        else:\n",
    "            key_value = line.split('=')\n",
    "            number_labels[key][key_value[0].strip()] = key_value[1].strip()\n",
    "file.close()"
   ]
  },
  {
   "cell_type": "markdown",
   "metadata": {},
   "source": [
    "All negative numbers are missing data. The different values denote reasons for that the data is missing, which I can load from the original data if it turns out to be useful. I replace them with an nan value to assist in future data operations."
   ]
  },
  {
   "cell_type": "code",
   "execution_count": 10,
   "metadata": {},
   "outputs": [
    {
     "name": "stdout",
     "output_type": "stream",
     "text": [
      "There are 24183783 out of 63904657 missing values in the dataframe.\n",
      "The dataframe contains 2719 features and 23503 observations.\n"
     ]
    }
   ],
   "source": [
    "#replace negative numbers with nan\n",
    "student_df = student_df.replace([x for x in range(-9,0)],np.nan)\n",
    "\n",
    "print('There are '+str(student_df.isna().values.sum())+' out of '+str(student_df.size)+' missing values in the dataframe.')\n",
    "print('The dataframe contains '+str(student_df.shape[1])+' features and '+str(student_df.shape[0])+' observations.')"
   ]
  },
  {
   "cell_type": "markdown",
   "metadata": {},
   "source": [
    "The data in the table is from several sources, and four different collection times. The first two letters in each column name specify the source of the data and the collection time of the data.  So as not to mix time periods, it may be useful to split the dataframe into four dataframes that contain data from the four collection times. After all, I don't want to imply that something that happened in a student's post-secondary career affected their decision to drop out in high school.\n",
    "\n",
    "First character code:\n",
    "Composite variables = X\n",
    "Student = S\n",
    "Parent = P\n",
    "Mathematics teacher = M\n",
    "Science teacher = N\n",
    "Administrator = A\n",
    "Counselor = C\n",
    "Weights = W\n",
    "\n",
    "Second character code:\n",
    "Base Year = 1\n",
    "First Followup = 2\n",
    "Second Followup = 3\n",
    "Third Followup = 4"
   ]
  },
  {
   "cell_type": "code",
   "execution_count": 16,
   "metadata": {},
   "outputs": [],
   "source": [
    "#create logical masks to separate tables based on time\n",
    "mask_BY = [(x[1]=='1')| (x=='STU_ID') for x in student_df.columns]\n",
    "mask_F1 = [x[1]=='2' for x in student_df.columns]\n",
    "mask_F2 = [x[1]=='3' for x in student_df.columns]\n",
    "mask_F3 = [x[1]=='4' for x in student_df.columns]\n",
    "\n",
    "#slice original table into four separate tables.\n",
    "df_BY = student_df.loc[:,mask_BY]\n",
    "df_F1 = student_df.loc[:,mask_F1]\n",
    "df_F2 = student_df.loc[:,mask_F2]\n",
    "df_F3 = student_df.loc[:,mask_F3]"
   ]
  },
  {
   "cell_type": "code",
   "execution_count": 20,
   "metadata": {},
   "outputs": [],
   "source": [
    "#Store pickled versions of the dataframes locally so I don't have to redo this every time.\n",
    "df_BY.to_pickle(filepath+'df_BY.pkl')\n",
    "df_F1.to_pickle(filepath+'df_F1.pkl')\n",
    "df_F2.to_pickle(filepath+'df_F2.pkl')\n",
    "df_F3.to_pickle(filepath+'df_F3.pkl')\n",
    "labels.to_pickle(filepath+'labels.pkl')\n",
    "df_weights.to_pickle(filepath+'df_weights.pkl')"
   ]
  },
  {
   "cell_type": "code",
   "execution_count": 26,
   "metadata": {},
   "outputs": [],
   "source": [
    "import pickle\n",
    "f = open(filepath+'number_labels.pkl','wb')\n",
    "pickle.dump(number_labels,f)\n",
    "f.close()"
   ]
  },
  {
   "cell_type": "code",
   "execution_count": null,
   "metadata": {},
   "outputs": [],
   "source": []
  },
  {
   "cell_type": "code",
   "execution_count": null,
   "metadata": {},
   "outputs": [],
   "source": []
  },
  {
   "cell_type": "code",
   "execution_count": null,
   "metadata": {},
   "outputs": [],
   "source": []
  },
  {
   "cell_type": "code",
   "execution_count": null,
   "metadata": {},
   "outputs": [],
   "source": []
  },
  {
   "cell_type": "code",
   "execution_count": null,
   "metadata": {},
   "outputs": [],
   "source": []
  }
 ],
 "metadata": {
  "kernelspec": {
   "display_name": "Python 3",
   "language": "python",
   "name": "python3"
  },
  "language_info": {
   "codemirror_mode": {
    "name": "ipython",
    "version": 3
   },
   "file_extension": ".py",
   "mimetype": "text/x-python",
   "name": "python",
   "nbconvert_exporter": "python",
   "pygments_lexer": "ipython3",
   "version": "3.7.1"
  }
 },
 "nbformat": 4,
 "nbformat_minor": 2
}
