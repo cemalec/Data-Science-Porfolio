{
 "cells": [
  {
   "cell_type": "markdown",
   "metadata": {},
   "source": [
    "# Baseline Model\n",
    "As a simple model for this binary prediction, we choose logistic regression. This is both a conceptually simple and easy to interpret model, and can be extended to include more classes if necessary.\n",
    "\n",
    "In this logistic regression model, we have to preprocess the data. For categorical variables this means creating dummy variables and for continuous variables, it means centering and scaling the data by the mean and standard deviation respectively. Many solvers that are optimized for large datasets perfrom better when the variables have similar ranges.\n",
    "\n",
    "Then we get rid of variables involving arbitrary dates, such as date that the survey was administered, or the student's birth date. These will be difficult to handle in a logistic regression context. Variables such as 'parent's birth year' should work fine, as it is a single number."
   ]
  },
  {
   "cell_type": "code",
   "execution_count": 1,
   "metadata": {},
   "outputs": [],
   "source": [
    "#import relevant packages\n",
    "import numpy as np\n",
    "import pandas as pd\n",
    "from scipy import stats\n",
    "import matplotlib.pyplot as plt\n",
    "import re\n",
    "from sklearn.impute import SimpleImputer\n",
    "from sklearn.linear_model import LogisticRegression\n",
    "from sklearn.metrics import classification_report, confusion_matrix\n",
    "from sklearn.preprocessing import StandardScaler\n",
    "%matplotlib inline"
   ]
  },
  {
   "cell_type": "code",
   "execution_count": 2,
   "metadata": {},
   "outputs": [],
   "source": [
    "#import student data from wrangling stage\n",
    "filepath = '/Users/chrismalec/DS_Portfolio/CapstoneProjectOne/'\n",
    "df_BY = pd.read_pickle(filepath + 'df_BY.pkl')\n",
    "df_F3 = pd.read_pickle(filepath + 'df_F3.pkl')\n",
    "df_weights = pd.read_pickle(filepath + 'df_weights.pkl')\n",
    "labels = pd.read_pickle(filepath + 'labels.pkl')\n",
    "alt_labels = df_F3['X4EVERDROP']\n",
    "\n",
    "import pickle\n",
    "pickle_in = open(filepath+'number_labels.pkl',\"rb\")\n",
    "number_labels = pickle.load(pickle_in)"
   ]
  },
  {
   "cell_type": "code",
   "execution_count": 3,
   "metadata": {
    "scrolled": true
   },
   "outputs": [
    {
     "name": "stdout",
     "output_type": "stream",
     "text": [
      "There are 100.000000 continuous variables and 937.000000 discrete variables\n"
     ]
    }
   ],
   "source": [
    "#Create two groups of variables: continuous and discrete\n",
    "cont_var = []\n",
    "disc_var = []\n",
    "for key in df_BY.columns:\n",
    "    if list(number_labels[key].keys()) == ['desc']:\n",
    "        cont_var.append(key)\n",
    "    elif 'desc' not in list(number_labels[key].keys()):\n",
    "        continue\n",
    "    else:\n",
    "        disc_var.append(key)\n",
    "        \n",
    "print('There are %f continuous variables and %f discrete variables' \n",
    "      %(len(cont_var),len(disc_var)))"
   ]
  },
  {
   "cell_type": "code",
   "execution_count": 4,
   "metadata": {},
   "outputs": [],
   "source": [
    "#Fixing cont_var\n",
    "cont_var = [x for x in cont_var if not re.search(\"YYYYMM\",number_labels[x]['desc'])]\n",
    "Student_ID = cont_var.pop(0)"
   ]
  },
  {
   "cell_type": "markdown",
   "metadata": {},
   "source": [
    "## Handling missing data\n",
    "\n",
    "At this point, there is not much missing data, but there are several different codes that refer to missing data. We will refer to most of these codes as nan, however non-response data is left as '-8' for discrete variables, as this represents a distinct category from the other types of missing data. All missing codes are converted to nan for continuous variables, as the values of the missing data can throw off the mean and standard deviations by quite a bit."
   ]
  },
  {
   "cell_type": "code",
   "execution_count": 5,
   "metadata": {},
   "outputs": [],
   "source": [
    "#-4 means a follow through missing, \n",
    "#-5 is suppressed in public use data and was already cleaned,\n",
    "#-6 is an abbreviated interview, \n",
    "#-7 is a legitimate skip, \n",
    "#-8 is a non-response,\n",
    "#-9 is missing\n",
    "for column in disc_var:\n",
    "    df_BY.loc[df_BY[column] == -4,column] = np.nan\n",
    "    df_BY.loc[df_BY[column] == -6,column] = np.nan\n",
    "    df_BY.loc[df_BY[column] == -7,column] = np.nan\n",
    "    #-8 is not labeled nan because it is an omission on the part of the subject, not the researcher\n",
    "    df_BY.loc[df_BY[column] == -9,column] = np.nan\n",
    "for column in cont_var:\n",
    "    df_BY.loc[df_BY[column] == -4,column] = np.nan\n",
    "    df_BY.loc[df_BY[column] == -6,column] = np.nan\n",
    "    df_BY.loc[df_BY[column] == -7,column] = np.nan\n",
    "    #Keeping -8 as is in continuous data would mess up the continuous variable means\n",
    "    df_BY.loc[df_BY[column] == -8,column] = np.nan\n",
    "    df_BY.loc[df_BY[column] == -9,column] = np.nan\n",
    "    \n"
   ]
  },
  {
   "cell_type": "code",
   "execution_count": 6,
   "metadata": {},
   "outputs": [],
   "source": [
    "scaler = StandardScaler()\n",
    "df = pd.DataFrame(scaler.fit_transform(df_BY[cont_var]),columns = cont_var)\n",
    "df[disc_var] = df_BY[disc_var]\n",
    "\n",
    "df = pd.get_dummies(df,prefix=disc_var,columns=disc_var,dummy_na=True)\n",
    "df['Dropout'] = (alt_labels == 1)\n",
    "#df['Dropout'] = (labels == 8)\n",
    "df = df.dropna(axis = 0, how = 'all')\n",
    "df = df.dropna(axis = 1, how = 'all')\n",
    "\n",
    "num_obs = df.shape[0]\n",
    "mode_imputer = SimpleImputer(strategy = \"most_frequent\")\n",
    "y = np.array(df.Dropout)\n",
    "df = df.drop('Dropout', axis = 1)\n",
    "X = mode_imputer.fit_transform(df)"
   ]
  },
  {
   "cell_type": "code",
   "execution_count": 7,
   "metadata": {},
   "outputs": [
    {
     "name": "stdout",
     "output_type": "stream",
     "text": [
      "There are 2714 dropouts in the dataset\n"
     ]
    }
   ],
   "source": [
    "print(\"There are\",np.sum(y),\"dropouts in the dataset\")"
   ]
  },
  {
   "cell_type": "markdown",
   "metadata": {},
   "source": [
    "## Training and Testing the Model\n",
    "\n",
    "In order to make sure that our model can predict unseen data, we split it into testing and training sets. Training sets will be used to cross_validate the hyperparameters for the model, while the testing set will be used to validate the model."
   ]
  },
  {
   "cell_type": "code",
   "execution_count": 8,
   "metadata": {},
   "outputs": [],
   "source": [
    "#Split into test/train\n",
    "n_obs = df.shape[0]\n",
    "n_train = round(0.67*n_obs)\n",
    "shuffle_index = np.random.choice(df.index, size = n_obs, replace = False)\n",
    "train_index = shuffle_index[:n_train]\n",
    "test_index = shuffle_index[n_train:]"
   ]
  },
  {
   "cell_type": "code",
   "execution_count": 9,
   "metadata": {},
   "outputs": [],
   "source": [
    "#Create X and y arrays\n",
    "X_train = X[train_index,:]\n",
    "X_test = X[test_index,:]\n",
    "\n",
    "y_train = y[train_index]\n",
    "y_test = y[test_index]\n",
    "\n",
    "#train_weight = np.array(df_weights.loc[train_index,'W1STUDENT'])\n",
    "train_weight = np.array(df_weights.loc[train_index,'W4W1STUP1'])"
   ]
  },
  {
   "cell_type": "code",
   "execution_count": 16,
   "metadata": {},
   "outputs": [
    {
     "name": "stdout",
     "output_type": "stream",
     "text": [
      "              precision    recall  f1-score   support\n",
      "\n",
      "       False       0.93      0.77      0.84      6856\n",
      "        True       0.23      0.53      0.33       900\n",
      "\n",
      "   micro avg       0.74      0.74      0.74      7756\n",
      "   macro avg       0.58      0.65      0.58      7756\n",
      "weighted avg       0.85      0.74      0.78      7756\n",
      "\n",
      "[[5286 1570]\n",
      " [ 420  480]]\n"
     ]
    }
   ],
   "source": [
    "#Train model with default parameters\n",
    "model = LogisticRegression(solver = 'liblinear')\n",
    "model.fit(X_train,\n",
    "          y_train,\n",
    "          sample_weight = train_weight)\n",
    "y_predict = model.predict(X_test)\n",
    "\n",
    "print(classification_report(y_test,y_predict))\n",
    "print(confusion_matrix(y_test,y_predict))"
   ]
  },
  {
   "cell_type": "markdown",
   "metadata": {},
   "source": [
    "## Tuning and Optimizing the Model\n",
    "\n",
    "Since the model is working, we now try to optimize the hyperparameters. Fortunately, in logistic regression, the regularization constant 'C' is the only major parameter. We are also free to choose either an 'L1' or an 'L2' penalty referring to what power in the variables we use to calculate the regularization parameter."
   ]
  },
  {
   "cell_type": "code",
   "execution_count": 19,
   "metadata": {},
   "outputs": [],
   "source": [
    "#Create models\n",
    "Cs = np.geomspace(1e-6,1e0,13)\n",
    "models_L1 = [LogisticRegression(C = C,solver = 'liblinear',penalty = 'l1') for C in Cs]\n",
    "models_L2 = [LogisticRegression(C = C,solver = 'liblinear',penalty = 'l2') for C in Cs]\n",
    "models = models_L1 + models_L2"
   ]
  },
  {
   "cell_type": "code",
   "execution_count": 20,
   "metadata": {},
   "outputs": [
    {
     "name": "stderr",
     "output_type": "stream",
     "text": [
      "/anaconda3/lib/python3.7/site-packages/sklearn/metrics/classification.py:1143: UndefinedMetricWarning: Precision and F-score are ill-defined and being set to 0.0 in labels with no predicted samples.\n",
      "  'precision', 'predicted', average, warn_for)\n",
      "/anaconda3/lib/python3.7/site-packages/sklearn/metrics/classification.py:1143: UndefinedMetricWarning: Precision and F-score are ill-defined and being set to 0.0 in labels with no predicted samples.\n",
      "  'precision', 'predicted', average, warn_for)\n",
      "/anaconda3/lib/python3.7/site-packages/sklearn/metrics/classification.py:1143: UndefinedMetricWarning: Precision and F-score are ill-defined and being set to 0.0 in labels with no predicted samples.\n",
      "  'precision', 'predicted', average, warn_for)\n"
     ]
    },
    {
     "name": "stdout",
     "output_type": "stream",
     "text": [
      "[1e-06, 'l1', 0.8841684130310535, 0.886073537816727, 0.0, 0.0]\n",
      "[3.162277660168379e-06, 'l1', 0.8585444846637454, 0.8601638407315679, 0.1016949152542373, 0.030100334448160536]\n",
      "[1e-05, 'l1', 0.8650219089350353, 0.861306915602972, 0.2537878787878788, 0.090625]\n",
      "[3.1622776601683795e-05, 'l1', 0.8453038674033149, 0.8453038674033149, 0.27136752136752135, 0.21237458193979933]\n",
      "[0.0001, 'l1', 0.8714040769670414, 0.861306915602972, 0.393048128342246, 0.2703125]\n",
      "[0.00031622776601683794, 'l1', 0.8509239855210516, 0.8445418174890456, 0.33097595473833097, 0.3862876254180602]\n",
      "[0.001, 'l1', 0.8539721851781291, 0.8201562202324252, 0.29833546734955185, 0.4140625]\n",
      "[0.0031622776601683794, 'l1', 0.8584492284244618, 0.8012954848542579, 0.28900523560209423, 0.43125]\n",
      "[0.01, 'l1', 0.866260240045723, 0.7925319108401601, 0.2758229284903519, 0.4375]\n",
      "[0.03162277660168379, 'l1', 0.8698799771385026, 0.7889121737473804, 0.2701212789415656, 0.4390625]\n",
      "[0.1, 'l1', 0.8707372832920556, 0.786435511526005, 0.2689721421709894, 0.4375]\n",
      "[0.31622776601683794, 'l1', 0.8771194513240618, 0.7953895980186703, 0.2694805194805195, 0.421875]\n",
      "[1.0, 'l1', 0.8855972566203086, 0.8009144598971233, 0.2737430167597765, 0.4096989966555184]\n",
      "[1e-06, 'l2', 0.8765479138883597, 0.8769289388454944, 0.36666666666666664, 0.0984375]\n",
      "[3.162277660168379e-06, 'l2', 0.8739759954277005, 0.8702610020956373, 0.3593220338983051, 0.165625]\n",
      "[1e-05, 'l2', 0.8583539721851782, 0.8413031053534007, 0.2894736842105263, 0.265625]\n",
      "[3.1622776601683795e-05, 'l2', 0.8291103067250905, 0.8077729091255478, 0.25151148730350664, 0.3609375]\n",
      "[0.0001, 'l2', 0.8077729091255478, 0.7791960373404458, 0.24588576960309777, 0.4270833333333333]\n",
      "[0.00031622776601683794, 'l2', 0.8001524099828539, 0.7557630024766622, 0.2300509337860781, 0.4548611111111111]\n",
      "[0.001, 'l2', 0.8051057344256048, 0.7395694417984378, 0.22508038585209003, 0.46875]\n",
      "[0.0031622776601683794, 'l2', 0.8058677843398743, 0.7268051057344256, 0.22453222453222454, 0.49331103678929766]\n",
      "[0.01, 'l2', 0.8047247094684702, 0.722613831205944, 0.22330827067669173, 0.5138888888888888]\n",
      "[0.03162277660168379, 'l2', 0.8020575347685274, 0.7207087064202705, 0.22353811991117692, 0.5243055555555556]\n",
      "[0.1, 'l2', 0.8007239474185559, 0.7191846065917318, 0.22035139092240116, 0.5277777777777778]\n",
      "[0.31622776601683794, 'l2', 0.8005334349399885, 0.718803581634597, 0.22230320699708456, 0.53125]\n",
      "[1.0, 'l2', 0.7987235663935988, 0.7191846065917318, 0.21811594202898552, 0.53125]\n"
     ]
    }
   ],
   "source": [
    "#Optimization\n",
    "from sklearn.model_selection import KFold\n",
    "\n",
    "df_cv = pd.DataFrame(data = {'C':[],\n",
    "                            'penalty':[],\n",
    "                            'train_error':[],\n",
    "                            'test_error':[],\n",
    "                            'precision':[],\n",
    "                            'recall':[]})\n",
    "for model in models:\n",
    "    kf = KFold(n_splits=3,shuffle = True, random_state = 673)\n",
    "    train_scores = []\n",
    "    test_scores = []\n",
    "    precisions = []\n",
    "    recalls = []\n",
    "    for traincv_index, testcv_index in kf.split(X_train,y_train):\n",
    "        model.fit(X_train[traincv_index,:],\n",
    "                  y_train[traincv_index],\n",
    "                  sample_weight = train_weight[traincv_index])\n",
    "        \n",
    "        y_testcv = y_train[testcv_index]\n",
    "        y_predictcv = model.predict(X_train[testcv_index,:])\n",
    "        \n",
    "        report = classification_report(y_testcv,y_predictcv,output_dict = True)\n",
    "        \n",
    "        precisions.append(report['True']['precision'])\n",
    "        recalls.append(report['True']['recall'])\n",
    "        train_scores.append(model.score(X_train[traincv_index,:],y_train[traincv_index]))\n",
    "        test_scores.append(model.score(X_train[testcv_index,:],y_train[testcv_index]))\n",
    "    \n",
    "    row = [model.get_params()['C'],\n",
    "          model.get_params()['penalty'],\n",
    "          np.median(train_scores),\n",
    "          np.median(test_scores),\n",
    "          np.median(precisions),\n",
    "          np.median(recalls)]\n",
    "    print(row)\n",
    "    df_cv.append(pd.DataFrame([row],columns = df_cv.columns),ignore_index = True)"
   ]
  },
  {
   "cell_type": "markdown",
   "metadata": {},
   "source": [
    "## Plotting and Choosing the Optimal Model\n",
    "\n",
    "Optimal is always a trade-off between several competing needs. We would like a model that is as accurate as possible while performing well on unseen data. We also have to balance the 'precision', or the proportion of true positive to all positively identified variables and 'recall', or the propoportion of true positives to all observations that were actually true.\n",
    "\n",
    "In our specific case, identifying a student at risk for dropping out when that student is actually not at risk is acceptable as long as this does not happen so often as to make undermine interventions. However, missing an identification of a student who is actually at risk for dropping out is undesirable, as an intervention may have helped this student."
   ]
  },
  {
   "cell_type": "code",
   "execution_count": 74,
   "metadata": {},
   "outputs": [],
   "source": [
    "#Create dataframes conducive to plots\n",
    "df_plot1 = pd.melt(df_cv,id_vars = ['C','penalty'],value_vars = ['train_error','test_error'],value_name = 'error',var_name = 'error_type')\n",
    "df_plot2 = pd.melt(df_cv,id_vars = ['C','penalty'],value_vars = ['precision','recall'],value_name = 'classification',var_name = 'class_type')"
   ]
  },
  {
   "cell_type": "code",
   "execution_count": 71,
   "metadata": {},
   "outputs": [
    {
     "data": {
      "image/png": "[encoded data removed]",
      "text/plain": [
       "<Figure size 720x360 with 1 Axes>"
      ]
     },
     "metadata": {
      "needs_background": "light"
     },
     "output_type": "display_data"
    }
   ],
   "source": [
    "import seaborn as sns\n",
    "fig = plt.figure(figsize = [10,5])\n",
    "ax = sns.scatterplot(data = df_plot1, \n",
    "                     x = np.log10(df_plot1.C), \n",
    "                     y = 'error',\n",
    "                     hue = 'penalty',\n",
    "                     style= 'error_type',\n",
    "                     s=50\n",
    "                    )\n",
    "plt.xlabel('log(C)')\n",
    "plt.ylabel('Error')\n",
    "plt.title('Train and Test Error')\n",
    "plt.show()"
   ]
  },
  {
   "cell_type": "code",
   "execution_count": 72,
   "metadata": {},
   "outputs": [
    {
     "data": {
      "text/plain": [
       "Text(0.5, 1.0, 'Precision and Recall')"
      ]
     },
     "execution_count": 72,
     "metadata": {},
     "output_type": "execute_result"
    },
    {
     "data": {
      "image/png": "[encoded data removed]",
      "text/plain": [
       "<Figure size 720x360 with 1 Axes>"
      ]
     },
     "metadata": {
      "needs_background": "light"
     },
     "output_type": "display_data"
    }
   ],
   "source": [
    "fig = plt.figure(figsize = [10,5])\n",
    "ax = sns.scatterplot(data = df_plot2, \n",
    "                     x = np.log10(df_plot2.C), \n",
    "                     y = 'classification', \n",
    "                     hue = 'penalty',\n",
    "                     style = 'class_type',\n",
    "                     s = 50\n",
    "                    )\n",
    "plt.xlabel('log(C)')\n",
    "plt.ylabel('Proportion')\n",
    "plt.title('Precision and Recall')"
   ]
  },
  {
   "cell_type": "code",
   "execution_count": 73,
   "metadata": {},
   "outputs": [
    {
     "name": "stdout",
     "output_type": "stream",
     "text": [
      "              precision    recall  f1-score   support\n",
      "\n",
      "       False       0.92      0.77      0.84      6856\n",
      "        True       0.22      0.50      0.30       900\n",
      "\n",
      "   micro avg       0.74      0.74      0.74      7756\n",
      "   macro avg       0.57      0.63      0.57      7756\n",
      "weighted avg       0.84      0.74      0.78      7756\n",
      "\n",
      "[[5271 1585]\n",
      " [ 453  447]]\n"
     ]
    }
   ],
   "source": [
    "#Train model with optimal parameters and apply to test set\n",
    "model = LogisticRegression(solver = 'liblinear', C = 5e-2, penalty = 'l2')\n",
    "model.fit(X_train,\n",
    "          y_train,\n",
    "          sample_weight = train_weight)\n",
    "y_predict = model.predict(X_test)\n",
    "\n",
    "print(classification_report(y_test,y_predict))\n",
    "print(confusion_matrix(y_test,y_predict))"
   ]
  },
  {
   "cell_type": "code",
   "execution_count": 109,
   "metadata": {},
   "outputs": [
    {
     "name": "stdout",
     "output_type": "stream",
     "text": [
      "The top ten factors increasing dropout likelihood are:\n",
      "Hours spent hanging out with friends on typical schoolday - nan\n",
      "Importance of placement tests for 10th to 12th grade math placement - nan\n",
      "Math teachers in this department share and discuss student work - 4.0\n",
      "Parent 2's major for Bachelor's degree 2-digit CIP code - 24.0\n",
      "Grade level 9th grader was placed in when started school in U.S. - 1.0\n",
      "9th grader thinks even if he/she studies he/she won't get into college - nan\n",
      "Science teacher's major for BA/BS 2-digit CIP - 52.0\n",
      "How often 9th grader speaks first language with friends - 3.0\n",
      "Parent 2's major for Bachelor's degree 2-digit CIP code - 51.0\n",
      "Whether 9th grader has ever stopped attending school for a month or more - 1.0\n",
      "\n",
      "\n",
      "The top ten factors decreasing dropout likelihood are:\n",
      "Whether 9th grader has ever stopped attending school for a month or more - 0.0\n",
      "Science teacher's emphasis on preparation for further science study - 2.0\n",
      "How often 9th grader speaks first language with friends - 2.0\n",
      "9th grader's month of birth - 12.0\n",
      "Importance of teacher's recommendation for 10th-12th science placement - 2.0\n",
      "9th grader has parent(s) living in household - 3.0\n",
      "Teaching is limited by lack of planning time - 4.0\n",
      "Student's fall 2009 science course - categorized - 18.0\n",
      "Poor student health is a problem at this school - 4.0\n",
      "9th grader thinks fall 2009 science course is useful for future career - nan\n"
     ]
    }
   ],
   "source": [
    "coef_rank = np.argsort(model.coef_[0,:])\n",
    "ten_neg = coef_rank[:10]\n",
    "ten_pos = coef_rank[-10:]\n",
    "print('The top ten factors increasing dropout likelihood are:')\n",
    "for pos in ten_pos:\n",
    "    cat = df.columns[pos].split('_')\n",
    "    print(' '.join(number_labels[cat[0]]['desc'].split()[2:]),'-',cat[1])\n",
    "print('\\n')\n",
    "print('The top ten factors decreasing dropout likelihood are:')\n",
    "for neg in ten_neg:\n",
    "    cat = df.columns[neg].split('_')\n",
    "    print(' '.join(number_labels[cat[0]]['desc'].split()[2:]),'-',cat[1])"
   ]
  }
 ],
 "metadata": {
  "kernelspec": {
   "display_name": "Python 3",
   "language": "python",
   "name": "python3"
  },
  "language_info": {
   "codemirror_mode": {
    "name": "ipython",
    "version": 3
   },
   "file_extension": ".py",
   "mimetype": "text/x-python",
   "name": "python",
   "nbconvert_exporter": "python",
   "pygments_lexer": "ipython3",
   "version": "3.7.1"
  }
 },
 "nbformat": 4,
 "nbformat_minor": 2
}
