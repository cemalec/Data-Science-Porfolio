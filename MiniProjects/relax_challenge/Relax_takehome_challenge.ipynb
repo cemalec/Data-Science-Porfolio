{
 "cells": [
  {
   "cell_type": "markdown",
   "metadata": {},
   "source": [
    "Our first task is to use the table of user engagement to identify 'adopted users.' An adopted user has logged in three separate days in at least one seven day period, accomplished using a rolling 7 day window for each user.\n",
    "\n",
    "To make a predictions, I made some changes to the feature columns. First off, I eliminated the two date columns since they carried time dependent information that could be highly correlated with the target variable. Next, I wanted to use the 'invited by user id' column, but there were too many different values, and it would cause significant issues with a decision tree of regression model. I therefore chose to make this column True if they had been invited by any user and False if the column contained NaN. Finally, I encoded the 'creation source' column as dummy variables.\n",
    "\n",
    "I put the data into a decision tree model, with default parameters. Precursoy tuning of parameters had little effect on the outcome. Since the data is highly unbalanced (about 13% of users adopted), precision and recall are more appropriate metrics. From a classification report, I can see that the precision on the 'adopted' class is 15% which is only slightly better than guessing that every user adopted. Though, since the recall is not 100%, it is important to note this is not the conclusion the algorithm drew. The ROC curve is also just slightly better than guessing.\n",
    "\n",
    "Looking at the feature importance parameters for the model a 'creation source' column of 'personal projects' by far has the most predictive power. The rest of the features are very low in terms of importance. For future work to improve predictions, I would focus on feature engineering to try to get more information into the model. For example, individual user invites and groups could be put into the random tree model through binary encoding. Also, since many features seem to have trouble splitting the users into categories, boosting algorithms that improve the performance of ensembles of weak predictors might be helpful. Finally, looking for additional data that could be gathered may also help."
   ]
  },
  {
   "cell_type": "code",
   "execution_count": 1,
   "metadata": {},
   "outputs": [],
   "source": [
    "import pandas as pd\n",
    "import numpy as np\n",
    "import matplotlib.pyplot as plt\n",
    "import datetime"
   ]
  },
  {
   "cell_type": "code",
   "execution_count": 2,
   "metadata": {},
   "outputs": [],
   "source": [
    "users_file = 'takehome_users.csv'\n",
    "user_engagement_file = 'takehome_user_engagement.csv'\n",
    "df_users = pd.read_csv(users_file,index_col=0,encoding='cp437')\n",
    "df_user_engagement = pd.read_csv(user_engagement_file,\n",
    "                                 index_col = [1,0],\n",
    "                                 encoding = 'cp437')\n",
    "user_ids = pd.read_csv(user_engagement_file,\n",
    "                       index_col = False,\n",
    "                       usecols = [1],\n",
    "                       squeeze = True\n",
    "                      )\n",
    "user_ids = user_ids.unique()"
   ]
  },
  {
   "cell_type": "code",
   "execution_count": 3,
   "metadata": {},
   "outputs": [],
   "source": [
    "adopted_user = []\n",
    "for user in user_ids:\n",
    "    df_logins = df_user_engagement.loc[user,:]\n",
    "    df_logins.index = pd.to_datetime(df_logins.index,format = '%Y-%m-%d %H:%M:%S')\n",
    "    df_logins = df_logins.rolling('7D').sum()\n",
    "    if len(df_logins[df_logins.visited >= 3]) > 0:\n",
    "        adopted_user.append(user)"
   ]
  },
  {
   "cell_type": "code",
   "execution_count": 4,
   "metadata": {},
   "outputs": [],
   "source": [
    "df_users['is_adopted'] = False\n",
    "df_users.loc[adopted_user,'is_adopted'] = True\n",
    "df_users.loc[:,'invited_by_user_id'] = pd.notna(df_users.invited_by_user_id)"
   ]
  },
  {
   "cell_type": "code",
   "execution_count": 5,
   "metadata": {},
   "outputs": [],
   "source": [
    "features = ['creation_source',\n",
    "            'opted_in_to_mailing_list',\n",
    "            'enabled_for_marketing_drip',\n",
    "            'invited_by_user_id'\n",
    "           ]\n",
    "\n",
    "df_users[\"creation_source\"] = pd.Categorical(df_users.creation_source, \n",
    "                                   categories=df_users.creation_source.unique(),\n",
    "                                   ordered=False)\n",
    "\n",
    "df_features = pd.get_dummies(df_users.loc[:,features],prefix='creation_source',columns=['creation_source'],dummy_na=False)\n",
    "df_target = df_users.loc[:,'is_adopted']\n",
    "\n",
    "features = np.array(df_features)\n",
    "feature_names = df_features.columns\n",
    "target = np.array(df_target)"
   ]
  },
  {
   "cell_type": "code",
   "execution_count": 6,
   "metadata": {},
   "outputs": [],
   "source": [
    "#Split into test/train\n",
    "n_obs = features.shape[0]\n",
    "n_train = round(0.7*n_obs)\n",
    "shuffle_index = np.random.choice(range(n_obs), size = n_obs, replace = False)\n",
    "train_index = shuffle_index[:n_train]\n",
    "test_index = shuffle_index[n_train:]\n",
    "\n",
    "#Create X and y arrays\n",
    "features_train = features[train_index,:]\n",
    "features_test = features[test_index,:]\n",
    "\n",
    "target_train = target[train_index]\n",
    "target_test = target[test_index]"
   ]
  },
  {
   "cell_type": "code",
   "execution_count": 7,
   "metadata": {},
   "outputs": [
    {
     "name": "stdout",
     "output_type": "stream",
     "text": [
      "               precision    recall  f1-score   support\n",
      "\n",
      "Did not adopt       0.88      0.38      0.53      3105\n",
      "      Adopted       0.15      0.67      0.24       495\n",
      "\n",
      "    micro avg       0.42      0.42      0.42      3600\n",
      "    macro avg       0.51      0.52      0.38      3600\n",
      " weighted avg       0.78      0.42      0.49      3600\n",
      "\n",
      "opted_in_to_mailing_list 0.07599097713231728 \n",
      "\n",
      "enabled_for_marketing_drip 0.04092628046851875 \n",
      "\n",
      "invited_by_user_id 0.0 \n",
      "\n",
      "creation_source_GUEST_INVITE 0.06927802245723308 \n",
      "\n",
      "creation_source_ORG_INVITE 0.006662201798968691 \n",
      "\n",
      "creation_source_SIGNUP 0.0007790287411119772 \n",
      "\n",
      "creation_source_PERSONAL_PROJECTS 0.6857244752951984 \n",
      "\n",
      "creation_source_SIGNUP_GOOGLE_AUTH 0.12063901410665182 \n",
      "\n"
     ]
    }
   ],
   "source": [
    "from sklearn.tree import DecisionTreeClassifier\n",
    "from sklearn.metrics import classification_report\n",
    "\n",
    "model = DecisionTreeClassifier(criterion = 'entropy',\n",
    "                               min_samples_split = 20,\n",
    "                               class_weight = 'balanced')\n",
    "\n",
    "model.fit(features_train,target_train)\n",
    "target_predict = model.predict(features_test)\n",
    "\n",
    "print(classification_report(target_test,\n",
    "                            target_predict,\n",
    "                            target_names = ['Did not adopt','Adopted']))\n",
    "\n",
    "for i,feature in enumerate(feature_names):\n",
    "    print(feature,model.feature_importances_[i],'\\n')"
   ]
  },
  {
   "cell_type": "code",
   "execution_count": 8,
   "metadata": {},
   "outputs": [
    {
     "data": {
      "image/png": "[encoded data removed]",
      "text/plain": [
       "<Figure size 792x360 with 2 Axes>"
      ]
     },
     "metadata": {
      "needs_background": "light"
     },
     "output_type": "display_data"
    }
   ],
   "source": [
    "from sklearn.metrics import precision_recall_curve, roc_curve\n",
    "\n",
    "target_probs = model.predict_proba(features_test)[:,1]\n",
    "precision, recall,thresholds = precision_recall_curve(target_test,target_probs)\n",
    "fpr, tpr, thresholds = roc_curve(target_test, target_probs)\n",
    "\n",
    "fig = plt.figure(figsize = [11,5])\n",
    "ax1 = plt.subplot(1,2,1)\n",
    "ax1.plot(fpr,tpr)\n",
    "ax1.set_xlabel('False Positive Rate')\n",
    "ax1.set_ylabel('True Positive Rate')\n",
    "ax1.set_title('ROC Curve')\n",
    "\n",
    "ax2 = plt.subplot(1,2,2)\n",
    "ax2.plot(recall,precision)\n",
    "ax2.set_xlabel('Recall')\n",
    "ax2.set_ylabel('Precision')\n",
    "ax2.set_title('Precision - Recall Curve')\n",
    "plt.show()"
   ]
  }
 ],
 "metadata": {
  "kernelspec": {
   "display_name": "Python 3",
   "language": "python",
   "name": "python3"
  },
  "language_info": {
   "codemirror_mode": {
    "name": "ipython",
    "version": 3
   },
   "file_extension": ".py",
   "mimetype": "text/x-python",
   "name": "python",
   "nbconvert_exporter": "python",
   "pygments_lexer": "ipython3",
   "version": "3.7.1"
  }
 },
 "nbformat": 4,
 "nbformat_minor": 2
}
