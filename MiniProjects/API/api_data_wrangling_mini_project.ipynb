{
 "cells": [
  {
   "cell_type": "markdown",
   "metadata": {},
   "source": [
    "This exercise will require you to pull some data from the Qunadl API. Qaundl is currently the most widely used aggregator of financial market data."
   ]
  },
  {
   "cell_type": "markdown",
   "metadata": {},
   "source": [
    "As a first step, you will need to register a free account on the http://www.quandl.com website."
   ]
  },
  {
   "cell_type": "markdown",
   "metadata": {},
   "source": [
    "After you register, you will be provided with a unique API key, that you should store:"
   ]
  },
  {
   "cell_type": "code",
   "execution_count": 1,
   "metadata": {},
   "outputs": [],
   "source": [
    "# Store the API key as a string - according to PEP8, constants are always named in all upper case\n",
    "API_KEY = "
   ]
  },
  {
   "cell_type": "markdown",
   "metadata": {},
   "source": [
    "Qaundl has a large number of data sources, but, unfortunately, most of them require a Premium subscription. Still, there are also a good number of free datasets."
   ]
  },
  {
   "cell_type": "markdown",
   "metadata": {},
   "source": [
    "For this mini project, we will focus on equities data from the Frankfurt Stock Exhange (FSE), which is available for free. We'll try and analyze the stock prices of a company called Carl Zeiss Meditec, which manufactures tools for eye examinations, as well as medical lasers for laser eye surgery: https://www.zeiss.com/meditec/int/home.html. The company is listed under the stock ticker AFX_X."
   ]
  },
  {
   "cell_type": "markdown",
   "metadata": {},
   "source": [
    "You can find the detailed Quandl API instructions here: https://docs.quandl.com/docs/time-series"
   ]
  },
  {
   "cell_type": "markdown",
   "metadata": {},
   "source": [
    "While there is a dedicated Python package for connecting to the Quandl API, we would prefer that you use the *requests* package, which can be easily downloaded using *pip* or *conda*. You can find the documentation for the package here: http://docs.python-requests.org/en/master/ "
   ]
  },
  {
   "cell_type": "markdown",
   "metadata": {},
   "source": [
    "Finally, apart from the *requests* package, you are encouraged to not use any third party Python packages, such as *pandas*, and instead focus on what's available in the Python Standard Library (the *collections* module might come in handy: https://pymotw.com/3/collections/ ).\n",
    "Also, since you won't have access to DataFrames, you are encouraged to us Python's native data structures - preferably dictionaries, though some questions can also be answered using lists.\n",
    "You can read more on these data structures here: https://docs.python.org/3/tutorial/datastructures.html"
   ]
  },
  {
   "cell_type": "markdown",
   "metadata": {},
   "source": [
    "Keep in mind that the JSON responses you will be getting from the API map almost one-to-one to Python's dictionaries. Unfortunately, they can be very nested, so make sure you read up on indexing dictionaries in the documentation provided above."
   ]
  },
  {
   "cell_type": "code",
   "execution_count": 2,
   "metadata": {},
   "outputs": [],
   "source": [
    "# First, import the relevant modules\n",
    "import requests\n",
    "from collections import defaultdict"
   ]
  },
  {
   "cell_type": "code",
   "execution_count": 3,
   "metadata": {},
   "outputs": [
    {
     "name": "stdout",
     "output_type": "stream",
     "text": [
      "The frequency of this data is daily\n"
     ]
    }
   ],
   "source": [
    "# Now, call the Quandl API and pull out a small sample of the data (only one day) to get a glimpse\n",
    "# into the JSON structure that will be returned\n",
    "url = 'https://www.quandl.com/api/v3/datasets/FSE/AFX_X.json'\n",
    "\n",
    "payload = {'start_date':'2017-04-25',\n",
    "              'end_date':'2017-04-25',\n",
    "              'order':'asc',\n",
    "              'collapse':'none',\n",
    "              'transform':'none',\n",
    "              'api_key':API_KEY}\n",
    "\n",
    "r = requests.get(url,params = payload)\n",
    "r.raise_for_status()\n",
    "print('The frequency of this data is '+r.json()['dataset']['frequency'])"
   ]
  },
  {
   "cell_type": "markdown",
   "metadata": {},
   "source": [
    "We can see that the data is granulated at the level of daily, which is important for future questions."
   ]
  },
  {
   "cell_type": "markdown",
   "metadata": {
    "collapsed": true
   },
   "source": [
    "Collect data from the Franfurt Stock Exchange, for the ticker AFX_X, for the whole year 2017 (keep in mind that the date format is YYYY-MM-DD).\n",
    "\n",
    "This is accomplished with a simple call to the quandl API for the requested dates. If the request is denied an exception will be raised."
   ]
  },
  {
   "cell_type": "code",
   "execution_count": 4,
   "metadata": {},
   "outputs": [],
   "source": [
    "url = 'https://www.quandl.com/api/v3/datasets/FSE/AFX_X.json'\n",
    "\n",
    "payload = {'start_date':'2017-01-01',\n",
    "              'end_date':'2017-12-31',\n",
    "              'order':'asc',\n",
    "              'collapse':'none',\n",
    "              'transform':'none',\n",
    "              'api_key':API_KEY}\n",
    "\n",
    "r = requests.get(url,params = payload)\n",
    "r.raise_for_status()"
   ]
  },
  {
   "cell_type": "markdown",
   "metadata": {},
   "source": [
    "After looking at the JSON fields, I used the columns names as keys to create a dictionary. The file returns a list of all fields for each date, but I wanted a dictionary which contained a list of all values for a given key. For example, the key of 'Date' contained a list of all the dates in the JSON file."
   ]
  },
  {
   "cell_type": "code",
   "execution_count": 5,
   "metadata": {},
   "outputs": [],
   "source": [
    "#Parse the JSON object and slice out the list of lists containing the data.\n",
    "data_lists = r.json()['dataset']['data']\n",
    "\n",
    "#Create a list of keys\n",
    "keys = ['Date',\n",
    "              'Open',\n",
    "              'High',\n",
    "              'Low',\n",
    "              'Close',\n",
    "              'Change',\n",
    "              'Traded Volume',\n",
    "              'Turnover',\n",
    "              'Last Price of the Day',\n",
    "              'Daily Traded Units',\n",
    "              'Daily Turnover']\n",
    "\n",
    "#Initialize a dictionary\n",
    "data_dict = defaultdict(list)\n",
    "\n",
    "#Create a list for each key, and extract the i'th element from each list\n",
    "for i, key in enumerate(keys):\n",
    "    for j, datum in enumerate(data_lists):\n",
    "        data_dict[key].append(datum[i])"
   ]
  },
  {
   "cell_type": "markdown",
   "metadata": {},
   "source": [
    "Calculate what the highest and lowest opening prices were for the stock in this period.\n",
    "\n",
    "There are a number of 'none' entries in the data that throw off computations, I got rid of these by only accepting values that returned a type of 'float'."
   ]
  },
  {
   "cell_type": "code",
   "execution_count": 6,
   "metadata": {},
   "outputs": [
    {
     "name": "stdout",
     "output_type": "stream",
     "text": [
      "The lowest opening price is 34.0, and the highest opening price is 53.11\n"
     ]
    }
   ],
   "source": [
    "clean_open = [x for x in data_dict['Open'] if isinstance(x,float)]\n",
    "print('The lowest opening price is '+str(min(clean_open))\n",
    "      +', and the highest opening price is '+str(max(clean_open)))"
   ]
  },
  {
   "cell_type": "markdown",
   "metadata": {},
   "source": [
    "What was the largest change between any two days (based on Closing Price)?\n",
    "\n",
    "I thought it was easier to make another API call to get the data transformed using the 'diff' operator. This calculates the difference between sequential entries. \n",
    "\n",
    "I will need the dictionary I made earlier later, so I gave this one a different name. If I was going to do this operation even once more, it would probably be time to write a function JSON2dict."
   ]
  },
  {
   "cell_type": "code",
   "execution_count": 7,
   "metadata": {},
   "outputs": [
    {
     "name": "stdout",
     "output_type": "stream",
     "text": [
      "The biggest change is 1.72 between 2017-05-10 and 2017-05-11\n"
     ]
    }
   ],
   "source": [
    "#A new request asks for just the 'close' column and differentiates the data.\n",
    "payload = {'start_date':'2017-01-01',\n",
    "              'end_date':'2017-12-31',\n",
    "              'column_index':'4',\n",
    "              'order':'asc',\n",
    "              'collapse':'none',\n",
    "              'transform':'diff',\n",
    "              'api_key':API_KEY}\n",
    "\n",
    "r2 = requests.get(url,params = payload)\n",
    "r2.raise_for_status()\n",
    "\n",
    "data_lists2 = r2.json()['dataset']['data']\n",
    "keys2 = ['Date','Close']\n",
    "\n",
    "data_dict2 = defaultdict(list)\n",
    "for i, key in enumerate(keys2):\n",
    "    for j, datum in enumerate(data_lists2):\n",
    "        data_dict2[key].append(datum[i])\n",
    "\n",
    "#clean the data of non-float values\n",
    "clean_change = [x for x in data_dict2['Close'] if isinstance(x,float)]\n",
    "\n",
    "#Find the max element and its index without numpy\n",
    "(biggest_change,biggest_change_i) = max((v,i) for i,v in enumerate(clean_change))\n",
    "\n",
    "#Find the dates that result in this change\n",
    "date1 = data_dict2['Date'][biggest_change_i-1]\n",
    "date2 = data_dict2['Date'][biggest_change_i]\n",
    "print('The biggest change is '+str(biggest_change)+' between '+str(date1)\n",
    "      +' and '+str(date2))"
   ]
  },
  {
   "cell_type": "markdown",
   "metadata": {},
   "source": [
    "What was the average daily trading volume during this year?\n",
    "\n",
    "The data is cleaned in a similar way and the mean of the output is calculated."
   ]
  },
  {
   "cell_type": "code",
   "execution_count": 8,
   "metadata": {},
   "outputs": [
    {
     "name": "stdout",
     "output_type": "stream",
     "text": [
      "The mean traded volume is 89124.34\n"
     ]
    }
   ],
   "source": [
    "clean_volume = [x for x in data_dict['Traded Volume'] if isinstance(x,float)]\n",
    "print('The mean traded volume is '+str(round(sum(clean_volume)/len(clean_volume),2)))"
   ]
  },
  {
   "cell_type": "markdown",
   "metadata": {},
   "source": [
    "What was the median trading volume during this year. (Note: you may need to implement your own function for calculating the median.)\n",
    "\n",
    "I defined a median function, it works."
   ]
  },
  {
   "cell_type": "code",
   "execution_count": 9,
   "metadata": {},
   "outputs": [
    {
     "name": "stdout",
     "output_type": "stream",
     "text": [
      "The median traded volume is 76286.0\n"
     ]
    }
   ],
   "source": [
    "#median function\n",
    "def median(numlist):\n",
    "    numlist.sort()\n",
    "    N = len(numlist)\n",
    "    if N%2 == 0:\n",
    "        hN = int(N/2)\n",
    "        return (numlist[hN-1]+numlist[hN])/2\n",
    "    else:\n",
    "        hN = int((N-1)/2)\n",
    "        return numlist[hN]\n",
    "\n",
    "#The median of the list of data is calculated\n",
    "print('The median traded volume is '+str(round(median(clean_volume),2)))"
   ]
  },
  {
   "cell_type": "code",
   "execution_count": null,
   "metadata": {},
   "outputs": [],
   "source": []
  }
 ],
 "metadata": {
  "kernelspec": {
   "display_name": "Python 3",
   "language": "python",
   "name": "python3"
  },
  "language_info": {
   "codemirror_mode": {
    "name": "ipython",
    "version": 3
   },
   "file_extension": ".py",
   "mimetype": "text/x-python",
   "name": "python",
   "nbconvert_exporter": "python",
   "pygments_lexer": "ipython3",
   "version": "3.7.1"
  }
 },
 "nbformat": 4,
 "nbformat_minor": 2
}
