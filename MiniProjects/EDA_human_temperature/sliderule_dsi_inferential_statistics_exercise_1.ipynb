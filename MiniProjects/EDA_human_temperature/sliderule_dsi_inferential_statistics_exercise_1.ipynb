{
 "cells": [
  {
   "cell_type": "markdown",
   "metadata": {},
   "source": [
    "# What is the True Normal Human Body Temperature? \n",
    "\n",
    "#### Background\n",
    "\n",
    "The mean normal body temperature was held to be 37$^{\\circ}$C or 98.6$^{\\circ}$F for more than 120 years since it was first conceptualized and reported by Carl Wunderlich in a famous 1868 book. But, is this value statistically correct?"
   ]
  },
  {
   "cell_type": "markdown",
   "metadata": {},
   "source": [
    "<h3>Exercises</h3>\n",
    "\n",
    "<p>In this exercise, you will analyze a dataset of human body temperatures and employ the concepts of hypothesis testing, confidence intervals, and statistical significance.</p>\n",
    "\n",
    "<p>Answer the following questions <b>in this notebook below and submit to your Github account</b>.</p> \n",
    "\n",
    "<ol>\n",
    "<li>  Is the distribution of body temperatures normal? \n",
    "    <ul>\n",
    "    <li> Although this is not a requirement for the Central Limit Theorem to hold (read the introduction on Wikipedia's page about the CLT carefully: https://en.wikipedia.org/wiki/Central_limit_theorem), it gives us some peace of mind that the population may also be normally distributed if we assume that this sample is representative of the population.\n",
    "    <li> Think about the way you're going to check for the normality of the distribution. Graphical methods are usually used first, but there are also other ways: https://en.wikipedia.org/wiki/Normality_test\n",
    "    </ul>\n",
    "<li>  Is the sample size large? Are the observations independent?\n",
    "    <ul>\n",
    "    <li> Remember that this is a condition for the Central Limit Theorem, and hence the statistical tests we are using, to apply.\n",
    "    </ul>\n",
    "<li>  Is the true population mean really 98.6 degrees F?\n",
    "    <ul>\n",
    "    <li> First, try a bootstrap hypothesis test.\n",
    "    <li> Now, let's try frequentist statistical testing. Would you use a one-sample or two-sample test? Why?\n",
    "    <li> In this situation, is it appropriate to use the $t$ or $z$ statistic? \n",
    "    <li> Now try using the other test. How is the result be different? Why?\n",
    "    </ul>\n",
    "<li>  Draw a small sample of size 10 from the data and repeat both frequentist tests. \n",
    "    <ul>\n",
    "    <li> Which one is the correct one to use? \n",
    "    <li> What do you notice? What does this tell you about the difference in application of the $t$ and $z$ statistic?\n",
    "    </ul>\n",
    "<li>  At what temperature should we consider someone's temperature to be \"abnormal\"?\n",
    "    <ul>\n",
    "    <li> As in the previous example, try calculating everything using the boostrap approach, as well as the frequentist approach.\n",
    "    <li> Start by computing the margin of error and confidence interval. When calculating the confidence interval, keep in mind that you should use the appropriate formula for one draw, and not N draws.\n",
    "    </ul>\n",
    "<li>  Is there a significant difference between males and females in normal temperature?\n",
    "    <ul>\n",
    "    <li> What testing approach did you use and why?\n",
    "    <li> Write a story with your conclusion in the context of the original problem.\n",
    "    </ul>\n",
    "</ol>\n",
    "\n",
    "You can include written notes in notebook cells using Markdown: \n",
    "   - In the control panel at the top, choose Cell > Cell Type > Markdown\n",
    "   - Markdown syntax: http://nestacms.com/docs/creating-content/markdown-cheat-sheet\n",
    "\n",
    "#### Resources\n",
    "\n",
    "+ Information and data sources: http://www.amstat.org/publications/jse/datasets/normtemp.txt, http://www.amstat.org/publications/jse/jse_data_archive.htm\n",
    "+ Markdown syntax: http://nestacms.com/docs/creating-content/markdown-cheat-sheet\n",
    "\n",
    "****"
   ]
  },
  {
   "cell_type": "code",
   "execution_count": 1,
   "metadata": {},
   "outputs": [],
   "source": [
    "import pandas as pd\n",
    "\n",
    "df = pd.read_csv('data/human_body_temperature.csv')"
   ]
  },
  {
   "cell_type": "markdown",
   "metadata": {},
   "source": [
    "From both the histogram and a percentile plot, we can see that the distribution of temperatures is nearly normal. The shapiro normality test bears this out by failing to reject the null hypothesis."
   ]
  },
  {
   "cell_type": "code",
   "execution_count": 2,
   "metadata": {},
   "outputs": [
    {
     "data": {
      "text/plain": [
       "<Figure size 800x500 with 1 Axes>"
      ]
     },
     "metadata": {},
     "output_type": "display_data"
    }
   ],
   "source": [
    "# Your work here.\n",
    "import matplotlib.pyplot as plt\n",
    "import numpy as np\n",
    "import scipy.stats as stats\n",
    "\n",
    "df.head()\n",
    "mean_temp = df['temperature'].mean()\n",
    "std_temp = df['temperature'].std()\n",
    "exp_temp = np.array(df['temperature'])\n",
    "normal_temp = np.random.normal(mean_temp,std_temp, 5000)\n",
    "\n",
    "fig,ax = plt.subplots(figsize=(8,5))\n",
    "ax.hist(exp_temp,bins = 25,color = 'blue',alpha = 0.5,density = True,label='Temperature Data')\n",
    "ax.hist(normal_temp, bins = 50,color = 'red',alpha = 0.5,density = True,label = 'Normal Data')\n",
    "ax.set_xlabel('Temperature')\n",
    "ax.set_ylabel('Count')\n",
    "ax.set_title('Distribution of Temperature Data and Normal Distribution')\n",
    "h, l = ax.get_legend_handles_labels()\n",
    "ax.legend(h,l)\n",
    "plt.show()"
   ]
  },
  {
   "cell_type": "code",
   "execution_count": 3,
   "metadata": {},
   "outputs": [
    {
     "data": {
      "image/png": "[encoded data removed]",
      "text/plain": [
       "<Figure size 576x360 with 1 Axes>"
      ]
     },
     "metadata": {
      "needs_background": "light"
     },
     "output_type": "display_data"
    }
   ],
   "source": [
    "#Q_normal = np.empty(len(normal_temp))\n",
    "c_normal = stats.norm.cdf((normal_temp-mean_temp)/std_temp)\n",
    "exp_temp.sort()\n",
    "exp_cdf = np.empty(len(normal_temp))\n",
    "for i,temp in enumerate(normal_temp):\n",
    "    exp_cdf[i] = np.sum(exp_temp<=temp)/len(exp_temp)\n",
    "\n",
    "fig,ax = plt.subplots(figsize=(8,5))\n",
    "ax.plot(normal_temp,c_normal,linestyle = 'none',marker = '.',label = 'Normal')\n",
    "ax.plot(normal_temp,exp_cdf,linestyle='none',marker='.',label = 'Temp Data')\n",
    "ax.set_xlabel('Temperature')\n",
    "ax.set_ylabel('Cumulative Probability')\n",
    "ax.set_title('Cumulative Probability of Temperature Data and Normal Distribution')\n",
    "h, l = ax.get_legend_handles_labels()\n",
    "ax.legend(h,l)\n",
    "plt.show()"
   ]
  },
  {
   "cell_type": "code",
   "execution_count": 4,
   "metadata": {},
   "outputs": [
    {
     "name": "stdout",
     "output_type": "stream",
     "text": [
      "The distribution is likely normal with a p-value of 0.23\n"
     ]
    }
   ],
   "source": [
    "stat, p = stats.shapiro(exp_temp)\n",
    "print('The distribution is likely normal with a p-value of' ,round(p,2))"
   ]
  },
  {
   "cell_type": "code",
   "execution_count": 5,
   "metadata": {},
   "outputs": [
    {
     "name": "stdout",
     "output_type": "stream",
     "text": [
      "130\n"
     ]
    }
   ],
   "source": [
    "#Number of samples\n",
    "print(len(df['temperature']))"
   ]
  },
  {
   "cell_type": "markdown",
   "metadata": {},
   "source": [
    "The sample size is not terribly large, but it is likely large enough. Presumably the samples were gathered independently, however we would have to look at the methodology to assess whether or not the measurements were independent.\n",
    "\n",
    "The bootstrap test gives a 0 p-value, and thus rejects the null hypothesis that the true temperature is 98.6 degrees. The t and z tests give the same conclusion. The z-test is more certain with a lower p-value. This has to do with the fact that the normal distribution has shorter tails than the t distribution, and may give greater certainty than is warranted.\n",
    "\n",
    "When both tests are repeated with a sample size of 10, the t-test fails to reject the null hypothesis whereas the z-test rejects it. With such a small sample size it is most likely inappropriate to reject the null hypothesis with such certainty (p-value 0.015) as the z-test gives."
   ]
  },
  {
   "cell_type": "code",
   "execution_count": 6,
   "metadata": {},
   "outputs": [
    {
     "name": "stdout",
     "output_type": "stream",
     "text": [
      "0.e+00\n"
     ]
    }
   ],
   "source": [
    "true_temp = 98.6\n",
    "exp_mean = np.mean(exp_temp)\n",
    "shifted_exp_temp = exp_temp - exp_mean + true_temp\n",
    "temp_replicates = np.empty(10000)\n",
    "for i in range(10000):\n",
    "    temp_replicates[i] = np.mean(np.random.choice(shifted_exp_temp,len(exp_temp)))\n",
    "p = np.sum(temp_replicates <= exp_mean)/10000\n",
    "print(np.format_float_scientific(p,2))"
   ]
  },
  {
   "cell_type": "code",
   "execution_count": 7,
   "metadata": {},
   "outputs": [
    {
     "name": "stdout",
     "output_type": "stream",
     "text": [
      "t-statistic: -5.5 p-value(t): 1.21e-07 p-value(z): 2.45e-08\n"
     ]
    }
   ],
   "source": [
    "t_statistic, p_value = stats.ttest_1samp(exp_temp,true_temp)\n",
    "p_value_z = stats.norm.cdf(t_statistic)\n",
    "print('t-statistic:',round(t_statistic,1),'p-value(t):', \n",
    "      np.format_float_scientific(p_value/2,2),'p-value(z):',np.format_float_scientific(p_value_z,2))"
   ]
  },
  {
   "cell_type": "code",
   "execution_count": 8,
   "metadata": {},
   "outputs": [
    {
     "name": "stdout",
     "output_type": "stream",
     "text": [
      "t-statistic: -0.76 p-value: 0.23 z-statistic: -2.18 p-value: 1.47e-02\n"
     ]
    }
   ],
   "source": [
    "np.random.seed(42)\n",
    "samp_temp = np.random.choice(exp_temp,10)\n",
    "\n",
    "t_statistic = np.sqrt(len(samp_temp)-1)*np.mean(samp_temp - true_temp)/np.std(samp_temp)\n",
    "p_value = stats.t.cdf(t_statistic,len(samp_temp)-1)\n",
    "\n",
    "z_statistic = np.sqrt(len(exp_temp)-1)*np.mean(samp_temp-true_temp)/np.std(exp_temp)\n",
    "p_value_z = stats.norm.cdf(z_statistic)\n",
    "print('t-statistic:',round(t_statistic,2),'p-value:',round(p_value,2),\n",
    "      'z-statistic:',round(z_statistic,2),'p-value:',np.format_float_scientific(p_value_z,2))"
   ]
  },
  {
   "cell_type": "code",
   "execution_count": null,
   "metadata": {},
   "outputs": [],
   "source": []
  },
  {
   "cell_type": "code",
   "execution_count": 9,
   "metadata": {},
   "outputs": [
    {
     "data": {
      "text/plain": [
       "0.0"
      ]
     },
     "execution_count": 9,
     "metadata": {},
     "output_type": "execute_result"
    }
   ],
   "source": [
    "true_temp = 98.6\n",
    "exp_mean = np.mean(exp_temp)\n",
    "shifted_exp_temp = exp_temp - np.mean(exp_temp) + true_temp\n",
    "replicate_mean = np.empty(10000)\n",
    "for i in range(10000):\n",
    "    replicate_sample = np.random.choice(shifted_exp_temp,len(shifted_exp_temp))\n",
    "    replicate_mean[i] = np.mean(replicate_sample)\n",
    "p = np.sum(replicate_mean < exp_mean)/10000\n",
    "p"
   ]
  },
  {
   "cell_type": "markdown",
   "metadata": {},
   "source": [
    "The confidence interval covers 98.1 to 98.4 degrees Fahrenheit. A reasonable definition of 'abnormal' temperature may then be temperatures that lie outside of this range. When we look at the difference between men's and women's temperatures however, we see that there is a meaningful difference, with the mean male temperature being 0.3 degrees lower than the mean female temperature. \n",
    "\n",
    "Since this difference spans the entirety of our confidence interval, it may be best to define a 'normal' temperature range separately for men and women. Constructing these confidence intervals gives men a normal temperature range of 97.9 - 98.3 and women a normal temperature range of 98.2 - 98.6."
   ]
  },
  {
   "cell_type": "code",
   "execution_count": 10,
   "metadata": {},
   "outputs": [
    {
     "name": "stdout",
     "output_type": "stream",
     "text": [
      "The confidence intervale is: [98.12, 98.37] and the margin of error is: 0.12\n"
     ]
    }
   ],
   "source": [
    "replicate_mean = np.empty(10000)\n",
    "for i in range(10000):\n",
    "    replicate_sample = np.random.choice(exp_temp,len(exp_temp))\n",
    "    replicate_mean[i] = np.mean(replicate_sample)\n",
    "replicate_mean.sort()\n",
    "ci = [round(replicate_mean[250],2),round(replicate_mean[9750],2)]\n",
    "me = round((ci[1]-ci[0])/2,2)\n",
    "print('The confidence intervale is:',ci,'and the margin of error is:',me)"
   ]
  },
  {
   "cell_type": "code",
   "execution_count": 11,
   "metadata": {},
   "outputs": [
    {
     "name": "stdout",
     "output_type": "stream",
     "text": [
      "The mean difference between men and women is -0.29 t-statistic -2.29 with a p-value of 0.02\n"
     ]
    }
   ],
   "source": [
    "men_temp = df[df['gender']=='M']['temperature']\n",
    "women_temp = df[df['gender']=='F']['temperature']\n",
    "men_temp_mean = np.mean(men_temp)\n",
    "women_temp_mean = np.mean(women_temp)\n",
    "t_statistic, p_value = stats.ttest_ind(men_temp,women_temp,equal_var = False)\n",
    "print('The mean difference between men and women is',round(men_temp_mean - women_temp_mean,2),\n",
    "      't-statistic',round(t_statistic,2),'with a p-value of',round(p_value,2))"
   ]
  },
  {
   "cell_type": "code",
   "execution_count": 12,
   "metadata": {},
   "outputs": [
    {
     "name": "stdout",
     "output_type": "stream",
     "text": [
      "The confidence interval for men is: [97.94, 98.27]\n",
      "The confidence interval for women is: [98.22, 98.58]\n"
     ]
    }
   ],
   "source": [
    "replicate_mean = np.empty(10000)\n",
    "for i in range(10000):\n",
    "    replicate_sample = np.random.choice(men_temp,len(men_temp))\n",
    "    replicate_mean[i] = np.mean(replicate_sample)\n",
    "replicate_mean.sort()\n",
    "ci = [round(replicate_mean[250],2),round(replicate_mean[9750],2)]\n",
    "print('The confidence interval for men is:',ci)\n",
    "\n",
    "replicate_mean = np.empty(10000)\n",
    "for i in range(10000):\n",
    "    replicate_sample = np.random.choice(women_temp,len(women_temp))\n",
    "    replicate_mean[i] = np.mean(replicate_sample)\n",
    "replicate_mean.sort()\n",
    "ci = [round(replicate_mean[250],2),round(replicate_mean[9750],2)]\n",
    "print('The confidence interval for women is:',ci)"
   ]
  },
  {
   "cell_type": "code",
   "execution_count": null,
   "metadata": {},
   "outputs": [],
   "source": []
  }
 ],
 "metadata": {
  "kernelspec": {
   "display_name": "Python 3",
   "language": "python",
   "name": "python3"
  },
  "language_info": {
   "codemirror_mode": {
    "name": "ipython",
    "version": 3
   },
   "file_extension": ".py",
   "mimetype": "text/x-python",
   "name": "python",
   "nbconvert_exporter": "python",
   "pygments_lexer": "ipython3",
   "version": "3.7.1"
  }
 },
 "nbformat": 4,
 "nbformat_minor": 1
}
